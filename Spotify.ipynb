{
  "nbformat": 4,
  "nbformat_minor": 0,
  "metadata": {
    "colab": {
      "name": "Spotify.ipynb",
      "provenance": [],
      "collapsed_sections": [],
      "authorship_tag": "ABX9TyPyYxZo8B/LtPxF0r684L+S"
    },
    "kernelspec": {
      "name": "python3",
      "display_name": "Python 3"
    },
    "language_info": {
      "name": "python"
    },
    "accelerator": "GPU"
  },
  "cells": [
    {
      "cell_type": "code",
      "metadata": {
        "colab": {
          "base_uri": "https://localhost:8080/"
        },
        "id": "RIGu57MyfNvX",
        "outputId": "d6c589db-50e5-421d-f795-2e657494f853"
      },
      "source": [
        "from google.colab import drive \n",
        "drive.mount('/content/gdrive/')"
      ],
      "execution_count": null,
      "outputs": [
        {
          "output_type": "stream",
          "text": [
            "Mounted at /content/gdrive/\n"
          ],
          "name": "stdout"
        }
      ]
    },
    {
      "cell_type": "code",
      "metadata": {
        "colab": {
          "base_uri": "https://localhost:8080/"
        },
        "id": "OdMafnwmfyDL",
        "outputId": "7f67b428-2a90-4350-e07e-d76e9a2bd050"
      },
      "source": [
        "cd /content/gdrive/MyDrive/spotify_data"
      ],
      "execution_count": null,
      "outputs": [
        {
          "output_type": "stream",
          "text": [
            "/content/gdrive/MyDrive/spotify_data\n"
          ],
          "name": "stdout"
        }
      ]
    },
    {
      "cell_type": "code",
      "metadata": {
        "id": "TYy6oY8IgN1u"
      },
      "source": [
        "import pandas as pd\n",
        "import json\n",
        "\n",
        "artists = pd.read_csv('artists.csv')\n",
        "data = pd.read_csv('data_o.csv')\n",
        "tracks = pd.read_csv('tracks.csv')\n",
        "data_by_artist = pd.read_csv('data_by_artist_o.csv')\n",
        "data_by_genres = pd.read_csv('data_by_genres_o.csv')\n",
        "data_by_year = pd.read_csv('data_by_year_o.csv')\n",
        "data_top50 = pd.read_csv('file1.csv')\n",
        "# Reading the json as a dict\n",
        "with open('dict_artists.json') as json_data:\n",
        "    dict_artists = json.load(json_data)"
      ],
      "execution_count": null,
      "outputs": []
    },
    {
      "cell_type": "code",
      "metadata": {
        "colab": {
          "base_uri": "https://localhost:8080/"
        },
        "id": "t71XvyEogftB",
        "outputId": "1a632895-2396-4c25-bb64-3fbf879bdd90"
      },
      "source": [
        "data.info()"
      ],
      "execution_count": null,
      "outputs": [
        {
          "output_type": "stream",
          "text": [
            "<class 'pandas.core.frame.DataFrame'>\n",
            "RangeIndex: 170653 entries, 0 to 170652\n",
            "Data columns (total 19 columns):\n",
            " #   Column            Non-Null Count   Dtype  \n",
            "---  ------            --------------   -----  \n",
            " 0   valence           170653 non-null  float64\n",
            " 1   year              170653 non-null  int64  \n",
            " 2   acousticness      170653 non-null  float64\n",
            " 3   artists           170653 non-null  object \n",
            " 4   danceability      170653 non-null  float64\n",
            " 5   duration_ms       170653 non-null  int64  \n",
            " 6   energy            170653 non-null  float64\n",
            " 7   explicit          170653 non-null  int64  \n",
            " 8   id                170653 non-null  object \n",
            " 9   instrumentalness  170653 non-null  float64\n",
            " 10  key               170653 non-null  int64  \n",
            " 11  liveness          170653 non-null  float64\n",
            " 12  loudness          170653 non-null  float64\n",
            " 13  mode              170653 non-null  int64  \n",
            " 14  name              170653 non-null  object \n",
            " 15  popularity        170653 non-null  int64  \n",
            " 16  release_date      170653 non-null  object \n",
            " 17  speechiness       170653 non-null  float64\n",
            " 18  tempo             170653 non-null  float64\n",
            "dtypes: float64(9), int64(6), object(4)\n",
            "memory usage: 24.7+ MB\n"
          ],
          "name": "stdout"
        }
      ]
    },
    {
      "cell_type": "code",
      "metadata": {
        "colab": {
          "base_uri": "https://localhost:8080/",
          "height": 314
        },
        "id": "F51ifhjjkNlI",
        "outputId": "4b07b4ee-6eed-43d0-bb11-296e4b762204"
      },
      "source": [
        "data.describe()"
      ],
      "execution_count": null,
      "outputs": [
        {
          "output_type": "execute_result",
          "data": {
            "text/html": [
              "<div>\n",
              "<style scoped>\n",
              "    .dataframe tbody tr th:only-of-type {\n",
              "        vertical-align: middle;\n",
              "    }\n",
              "\n",
              "    .dataframe tbody tr th {\n",
              "        vertical-align: top;\n",
              "    }\n",
              "\n",
              "    .dataframe thead th {\n",
              "        text-align: right;\n",
              "    }\n",
              "</style>\n",
              "<table border=\"1\" class=\"dataframe\">\n",
              "  <thead>\n",
              "    <tr style=\"text-align: right;\">\n",
              "      <th></th>\n",
              "      <th>valence</th>\n",
              "      <th>year</th>\n",
              "      <th>acousticness</th>\n",
              "      <th>danceability</th>\n",
              "      <th>duration_ms</th>\n",
              "      <th>energy</th>\n",
              "      <th>explicit</th>\n",
              "      <th>instrumentalness</th>\n",
              "      <th>key</th>\n",
              "      <th>liveness</th>\n",
              "      <th>loudness</th>\n",
              "      <th>mode</th>\n",
              "      <th>popularity</th>\n",
              "      <th>speechiness</th>\n",
              "      <th>tempo</th>\n",
              "    </tr>\n",
              "  </thead>\n",
              "  <tbody>\n",
              "    <tr>\n",
              "      <th>count</th>\n",
              "      <td>170653.000000</td>\n",
              "      <td>170653.000000</td>\n",
              "      <td>170653.000000</td>\n",
              "      <td>170653.000000</td>\n",
              "      <td>1.706530e+05</td>\n",
              "      <td>170653.000000</td>\n",
              "      <td>170653.000000</td>\n",
              "      <td>170653.000000</td>\n",
              "      <td>170653.000000</td>\n",
              "      <td>170653.000000</td>\n",
              "      <td>170653.000000</td>\n",
              "      <td>170653.000000</td>\n",
              "      <td>170653.000000</td>\n",
              "      <td>170653.000000</td>\n",
              "      <td>170653.000000</td>\n",
              "    </tr>\n",
              "    <tr>\n",
              "      <th>mean</th>\n",
              "      <td>0.528587</td>\n",
              "      <td>1976.787241</td>\n",
              "      <td>0.502115</td>\n",
              "      <td>0.537396</td>\n",
              "      <td>2.309483e+05</td>\n",
              "      <td>0.482389</td>\n",
              "      <td>0.084575</td>\n",
              "      <td>0.167010</td>\n",
              "      <td>5.199844</td>\n",
              "      <td>0.205839</td>\n",
              "      <td>-11.467990</td>\n",
              "      <td>0.706902</td>\n",
              "      <td>31.431794</td>\n",
              "      <td>0.098393</td>\n",
              "      <td>116.861590</td>\n",
              "    </tr>\n",
              "    <tr>\n",
              "      <th>std</th>\n",
              "      <td>0.263171</td>\n",
              "      <td>25.917853</td>\n",
              "      <td>0.376032</td>\n",
              "      <td>0.176138</td>\n",
              "      <td>1.261184e+05</td>\n",
              "      <td>0.267646</td>\n",
              "      <td>0.278249</td>\n",
              "      <td>0.313475</td>\n",
              "      <td>3.515094</td>\n",
              "      <td>0.174805</td>\n",
              "      <td>5.697943</td>\n",
              "      <td>0.455184</td>\n",
              "      <td>21.826615</td>\n",
              "      <td>0.162740</td>\n",
              "      <td>30.708533</td>\n",
              "    </tr>\n",
              "    <tr>\n",
              "      <th>min</th>\n",
              "      <td>0.000000</td>\n",
              "      <td>1921.000000</td>\n",
              "      <td>0.000000</td>\n",
              "      <td>0.000000</td>\n",
              "      <td>5.108000e+03</td>\n",
              "      <td>0.000000</td>\n",
              "      <td>0.000000</td>\n",
              "      <td>0.000000</td>\n",
              "      <td>0.000000</td>\n",
              "      <td>0.000000</td>\n",
              "      <td>-60.000000</td>\n",
              "      <td>0.000000</td>\n",
              "      <td>0.000000</td>\n",
              "      <td>0.000000</td>\n",
              "      <td>0.000000</td>\n",
              "    </tr>\n",
              "    <tr>\n",
              "      <th>25%</th>\n",
              "      <td>0.317000</td>\n",
              "      <td>1956.000000</td>\n",
              "      <td>0.102000</td>\n",
              "      <td>0.415000</td>\n",
              "      <td>1.698270e+05</td>\n",
              "      <td>0.255000</td>\n",
              "      <td>0.000000</td>\n",
              "      <td>0.000000</td>\n",
              "      <td>2.000000</td>\n",
              "      <td>0.098800</td>\n",
              "      <td>-14.615000</td>\n",
              "      <td>0.000000</td>\n",
              "      <td>11.000000</td>\n",
              "      <td>0.034900</td>\n",
              "      <td>93.421000</td>\n",
              "    </tr>\n",
              "    <tr>\n",
              "      <th>50%</th>\n",
              "      <td>0.540000</td>\n",
              "      <td>1977.000000</td>\n",
              "      <td>0.516000</td>\n",
              "      <td>0.548000</td>\n",
              "      <td>2.074670e+05</td>\n",
              "      <td>0.471000</td>\n",
              "      <td>0.000000</td>\n",
              "      <td>0.000216</td>\n",
              "      <td>5.000000</td>\n",
              "      <td>0.136000</td>\n",
              "      <td>-10.580000</td>\n",
              "      <td>1.000000</td>\n",
              "      <td>33.000000</td>\n",
              "      <td>0.045000</td>\n",
              "      <td>114.729000</td>\n",
              "    </tr>\n",
              "    <tr>\n",
              "      <th>75%</th>\n",
              "      <td>0.747000</td>\n",
              "      <td>1999.000000</td>\n",
              "      <td>0.893000</td>\n",
              "      <td>0.668000</td>\n",
              "      <td>2.624000e+05</td>\n",
              "      <td>0.703000</td>\n",
              "      <td>0.000000</td>\n",
              "      <td>0.102000</td>\n",
              "      <td>8.000000</td>\n",
              "      <td>0.261000</td>\n",
              "      <td>-7.183000</td>\n",
              "      <td>1.000000</td>\n",
              "      <td>48.000000</td>\n",
              "      <td>0.075600</td>\n",
              "      <td>135.537000</td>\n",
              "    </tr>\n",
              "    <tr>\n",
              "      <th>max</th>\n",
              "      <td>1.000000</td>\n",
              "      <td>2020.000000</td>\n",
              "      <td>0.996000</td>\n",
              "      <td>0.988000</td>\n",
              "      <td>5.403500e+06</td>\n",
              "      <td>1.000000</td>\n",
              "      <td>1.000000</td>\n",
              "      <td>1.000000</td>\n",
              "      <td>11.000000</td>\n",
              "      <td>1.000000</td>\n",
              "      <td>3.855000</td>\n",
              "      <td>1.000000</td>\n",
              "      <td>100.000000</td>\n",
              "      <td>0.970000</td>\n",
              "      <td>243.507000</td>\n",
              "    </tr>\n",
              "  </tbody>\n",
              "</table>\n",
              "</div>"
            ],
            "text/plain": [
              "             valence           year  ...    speechiness          tempo\n",
              "count  170653.000000  170653.000000  ...  170653.000000  170653.000000\n",
              "mean        0.528587    1976.787241  ...       0.098393     116.861590\n",
              "std         0.263171      25.917853  ...       0.162740      30.708533\n",
              "min         0.000000    1921.000000  ...       0.000000       0.000000\n",
              "25%         0.317000    1956.000000  ...       0.034900      93.421000\n",
              "50%         0.540000    1977.000000  ...       0.045000     114.729000\n",
              "75%         0.747000    1999.000000  ...       0.075600     135.537000\n",
              "max         1.000000    2020.000000  ...       0.970000     243.507000\n",
              "\n",
              "[8 rows x 15 columns]"
            ]
          },
          "metadata": {
            "tags": []
          },
          "execution_count": 5
        }
      ]
    },
    {
      "cell_type": "code",
      "metadata": {
        "colab": {
          "base_uri": "https://localhost:8080/",
          "height": 322
        },
        "id": "Wil-BuPnjwkR",
        "outputId": "79914cd4-c45f-4985-e78d-b439acc0cc3c"
      },
      "source": [
        "tracks.head()"
      ],
      "execution_count": null,
      "outputs": [
        {
          "output_type": "execute_result",
          "data": {
            "text/html": [
              "<div>\n",
              "<style scoped>\n",
              "    .dataframe tbody tr th:only-of-type {\n",
              "        vertical-align: middle;\n",
              "    }\n",
              "\n",
              "    .dataframe tbody tr th {\n",
              "        vertical-align: top;\n",
              "    }\n",
              "\n",
              "    .dataframe thead th {\n",
              "        text-align: right;\n",
              "    }\n",
              "</style>\n",
              "<table border=\"1\" class=\"dataframe\">\n",
              "  <thead>\n",
              "    <tr style=\"text-align: right;\">\n",
              "      <th></th>\n",
              "      <th>id</th>\n",
              "      <th>name</th>\n",
              "      <th>popularity</th>\n",
              "      <th>duration_ms</th>\n",
              "      <th>explicit</th>\n",
              "      <th>artists</th>\n",
              "      <th>id_artists</th>\n",
              "      <th>release_date</th>\n",
              "      <th>danceability</th>\n",
              "      <th>energy</th>\n",
              "      <th>key</th>\n",
              "      <th>loudness</th>\n",
              "      <th>mode</th>\n",
              "      <th>speechiness</th>\n",
              "      <th>acousticness</th>\n",
              "      <th>instrumentalness</th>\n",
              "      <th>liveness</th>\n",
              "      <th>valence</th>\n",
              "      <th>tempo</th>\n",
              "      <th>time_signature</th>\n",
              "    </tr>\n",
              "  </thead>\n",
              "  <tbody>\n",
              "    <tr>\n",
              "      <th>0</th>\n",
              "      <td>35iwgR4jXetI318WEWsa1Q</td>\n",
              "      <td>Carve</td>\n",
              "      <td>6</td>\n",
              "      <td>126903</td>\n",
              "      <td>0</td>\n",
              "      <td>['Uli']</td>\n",
              "      <td>['45tIt06XoI0Iio4LBEVpls']</td>\n",
              "      <td>1922-02-22</td>\n",
              "      <td>0.645</td>\n",
              "      <td>0.4450</td>\n",
              "      <td>0</td>\n",
              "      <td>-13.338</td>\n",
              "      <td>1</td>\n",
              "      <td>0.4510</td>\n",
              "      <td>0.674</td>\n",
              "      <td>0.7440</td>\n",
              "      <td>0.151</td>\n",
              "      <td>0.127</td>\n",
              "      <td>104.851</td>\n",
              "      <td>3</td>\n",
              "    </tr>\n",
              "    <tr>\n",
              "      <th>1</th>\n",
              "      <td>021ht4sdgPcrDgSk7JTbKY</td>\n",
              "      <td>Capítulo 2.16 - Banquero Anarquista</td>\n",
              "      <td>0</td>\n",
              "      <td>98200</td>\n",
              "      <td>0</td>\n",
              "      <td>['Fernando Pessoa']</td>\n",
              "      <td>['14jtPCOoNZwquk5wd9DxrY']</td>\n",
              "      <td>1922-06-01</td>\n",
              "      <td>0.695</td>\n",
              "      <td>0.2630</td>\n",
              "      <td>0</td>\n",
              "      <td>-22.136</td>\n",
              "      <td>1</td>\n",
              "      <td>0.9570</td>\n",
              "      <td>0.797</td>\n",
              "      <td>0.0000</td>\n",
              "      <td>0.148</td>\n",
              "      <td>0.655</td>\n",
              "      <td>102.009</td>\n",
              "      <td>1</td>\n",
              "    </tr>\n",
              "    <tr>\n",
              "      <th>2</th>\n",
              "      <td>07A5yehtSnoedViJAZkNnc</td>\n",
              "      <td>Vivo para Quererte - Remasterizado</td>\n",
              "      <td>0</td>\n",
              "      <td>181640</td>\n",
              "      <td>0</td>\n",
              "      <td>['Ignacio Corsini']</td>\n",
              "      <td>['5LiOoJbxVSAMkBS2fUm3X2']</td>\n",
              "      <td>1922-03-21</td>\n",
              "      <td>0.434</td>\n",
              "      <td>0.1770</td>\n",
              "      <td>1</td>\n",
              "      <td>-21.180</td>\n",
              "      <td>1</td>\n",
              "      <td>0.0512</td>\n",
              "      <td>0.994</td>\n",
              "      <td>0.0218</td>\n",
              "      <td>0.212</td>\n",
              "      <td>0.457</td>\n",
              "      <td>130.418</td>\n",
              "      <td>5</td>\n",
              "    </tr>\n",
              "    <tr>\n",
              "      <th>3</th>\n",
              "      <td>08FmqUhxtyLTn6pAh6bk45</td>\n",
              "      <td>El Prisionero - Remasterizado</td>\n",
              "      <td>0</td>\n",
              "      <td>176907</td>\n",
              "      <td>0</td>\n",
              "      <td>['Ignacio Corsini']</td>\n",
              "      <td>['5LiOoJbxVSAMkBS2fUm3X2']</td>\n",
              "      <td>1922-03-21</td>\n",
              "      <td>0.321</td>\n",
              "      <td>0.0946</td>\n",
              "      <td>7</td>\n",
              "      <td>-27.961</td>\n",
              "      <td>1</td>\n",
              "      <td>0.0504</td>\n",
              "      <td>0.995</td>\n",
              "      <td>0.9180</td>\n",
              "      <td>0.104</td>\n",
              "      <td>0.397</td>\n",
              "      <td>169.980</td>\n",
              "      <td>3</td>\n",
              "    </tr>\n",
              "    <tr>\n",
              "      <th>4</th>\n",
              "      <td>08y9GfoqCWfOGsKdwojr5e</td>\n",
              "      <td>Lady of the Evening</td>\n",
              "      <td>0</td>\n",
              "      <td>163080</td>\n",
              "      <td>0</td>\n",
              "      <td>['Dick Haymes']</td>\n",
              "      <td>['3BiJGZsyX9sJchTqcSA7Su']</td>\n",
              "      <td>1922</td>\n",
              "      <td>0.402</td>\n",
              "      <td>0.1580</td>\n",
              "      <td>3</td>\n",
              "      <td>-16.900</td>\n",
              "      <td>0</td>\n",
              "      <td>0.0390</td>\n",
              "      <td>0.989</td>\n",
              "      <td>0.1300</td>\n",
              "      <td>0.311</td>\n",
              "      <td>0.196</td>\n",
              "      <td>103.220</td>\n",
              "      <td>4</td>\n",
              "    </tr>\n",
              "  </tbody>\n",
              "</table>\n",
              "</div>"
            ],
            "text/plain": [
              "                       id  ... time_signature\n",
              "0  35iwgR4jXetI318WEWsa1Q  ...              3\n",
              "1  021ht4sdgPcrDgSk7JTbKY  ...              1\n",
              "2  07A5yehtSnoedViJAZkNnc  ...              5\n",
              "3  08FmqUhxtyLTn6pAh6bk45  ...              3\n",
              "4  08y9GfoqCWfOGsKdwojr5e  ...              4\n",
              "\n",
              "[5 rows x 20 columns]"
            ]
          },
          "metadata": {
            "tags": []
          },
          "execution_count": 6
        }
      ]
    },
    {
      "cell_type": "code",
      "metadata": {
        "colab": {
          "base_uri": "https://localhost:8080/",
          "height": 202
        },
        "id": "MuZSarL_A4gR",
        "outputId": "532008f6-6d30-4800-e845-bcd7de0bc8a9"
      },
      "source": [
        "data_by_genres.head()"
      ],
      "execution_count": null,
      "outputs": [
        {
          "output_type": "execute_result",
          "data": {
            "text/html": [
              "<div>\n",
              "<style scoped>\n",
              "    .dataframe tbody tr th:only-of-type {\n",
              "        vertical-align: middle;\n",
              "    }\n",
              "\n",
              "    .dataframe tbody tr th {\n",
              "        vertical-align: top;\n",
              "    }\n",
              "\n",
              "    .dataframe thead th {\n",
              "        text-align: right;\n",
              "    }\n",
              "</style>\n",
              "<table border=\"1\" class=\"dataframe\">\n",
              "  <thead>\n",
              "    <tr style=\"text-align: right;\">\n",
              "      <th></th>\n",
              "      <th>mode</th>\n",
              "      <th>genres</th>\n",
              "      <th>acousticness</th>\n",
              "      <th>danceability</th>\n",
              "      <th>duration_ms</th>\n",
              "      <th>energy</th>\n",
              "      <th>instrumentalness</th>\n",
              "      <th>liveness</th>\n",
              "      <th>loudness</th>\n",
              "      <th>speechiness</th>\n",
              "      <th>tempo</th>\n",
              "      <th>valence</th>\n",
              "      <th>popularity</th>\n",
              "      <th>key</th>\n",
              "    </tr>\n",
              "  </thead>\n",
              "  <tbody>\n",
              "    <tr>\n",
              "      <th>0</th>\n",
              "      <td>1</td>\n",
              "      <td>21st century classical</td>\n",
              "      <td>0.979333</td>\n",
              "      <td>0.162883</td>\n",
              "      <td>1.602977e+05</td>\n",
              "      <td>0.071317</td>\n",
              "      <td>0.606834</td>\n",
              "      <td>0.361600</td>\n",
              "      <td>-31.514333</td>\n",
              "      <td>0.040567</td>\n",
              "      <td>75.336500</td>\n",
              "      <td>0.103783</td>\n",
              "      <td>27.833333</td>\n",
              "      <td>6</td>\n",
              "    </tr>\n",
              "    <tr>\n",
              "      <th>1</th>\n",
              "      <td>1</td>\n",
              "      <td>432hz</td>\n",
              "      <td>0.494780</td>\n",
              "      <td>0.299333</td>\n",
              "      <td>1.048887e+06</td>\n",
              "      <td>0.450678</td>\n",
              "      <td>0.477762</td>\n",
              "      <td>0.131000</td>\n",
              "      <td>-16.854000</td>\n",
              "      <td>0.076817</td>\n",
              "      <td>120.285667</td>\n",
              "      <td>0.221750</td>\n",
              "      <td>52.500000</td>\n",
              "      <td>5</td>\n",
              "    </tr>\n",
              "    <tr>\n",
              "      <th>2</th>\n",
              "      <td>1</td>\n",
              "      <td>8-bit</td>\n",
              "      <td>0.762000</td>\n",
              "      <td>0.712000</td>\n",
              "      <td>1.151770e+05</td>\n",
              "      <td>0.818000</td>\n",
              "      <td>0.876000</td>\n",
              "      <td>0.126000</td>\n",
              "      <td>-9.180000</td>\n",
              "      <td>0.047000</td>\n",
              "      <td>133.444000</td>\n",
              "      <td>0.975000</td>\n",
              "      <td>48.000000</td>\n",
              "      <td>7</td>\n",
              "    </tr>\n",
              "    <tr>\n",
              "      <th>3</th>\n",
              "      <td>1</td>\n",
              "      <td>[]</td>\n",
              "      <td>0.651417</td>\n",
              "      <td>0.529093</td>\n",
              "      <td>2.328809e+05</td>\n",
              "      <td>0.419146</td>\n",
              "      <td>0.205309</td>\n",
              "      <td>0.218696</td>\n",
              "      <td>-12.288965</td>\n",
              "      <td>0.107872</td>\n",
              "      <td>112.857352</td>\n",
              "      <td>0.513604</td>\n",
              "      <td>20.859882</td>\n",
              "      <td>7</td>\n",
              "    </tr>\n",
              "    <tr>\n",
              "      <th>4</th>\n",
              "      <td>1</td>\n",
              "      <td>a cappella</td>\n",
              "      <td>0.676557</td>\n",
              "      <td>0.538961</td>\n",
              "      <td>1.906285e+05</td>\n",
              "      <td>0.316434</td>\n",
              "      <td>0.003003</td>\n",
              "      <td>0.172254</td>\n",
              "      <td>-12.479387</td>\n",
              "      <td>0.082851</td>\n",
              "      <td>112.110362</td>\n",
              "      <td>0.448249</td>\n",
              "      <td>45.820071</td>\n",
              "      <td>7</td>\n",
              "    </tr>\n",
              "  </tbody>\n",
              "</table>\n",
              "</div>"
            ],
            "text/plain": [
              "   mode                  genres  acousticness  ...   valence  popularity  key\n",
              "0     1  21st century classical      0.979333  ...  0.103783   27.833333    6\n",
              "1     1                   432hz      0.494780  ...  0.221750   52.500000    5\n",
              "2     1                   8-bit      0.762000  ...  0.975000   48.000000    7\n",
              "3     1                      []      0.651417  ...  0.513604   20.859882    7\n",
              "4     1              a cappella      0.676557  ...  0.448249   45.820071    7\n",
              "\n",
              "[5 rows x 14 columns]"
            ]
          },
          "metadata": {
            "tags": []
          },
          "execution_count": 7
        }
      ]
    },
    {
      "cell_type": "code",
      "metadata": {
        "colab": {
          "base_uri": "https://localhost:8080/",
          "height": 318
        },
        "id": "3qfjx1hVKIAE",
        "outputId": "c89e8ffb-bf46-4db5-8527-b2c2855c0d31"
      },
      "source": [
        "data_by_artist.head()"
      ],
      "execution_count": null,
      "outputs": [
        {
          "output_type": "execute_result",
          "data": {
            "text/html": [
              "<div>\n",
              "<style scoped>\n",
              "    .dataframe tbody tr th:only-of-type {\n",
              "        vertical-align: middle;\n",
              "    }\n",
              "\n",
              "    .dataframe tbody tr th {\n",
              "        vertical-align: top;\n",
              "    }\n",
              "\n",
              "    .dataframe thead th {\n",
              "        text-align: right;\n",
              "    }\n",
              "</style>\n",
              "<table border=\"1\" class=\"dataframe\">\n",
              "  <thead>\n",
              "    <tr style=\"text-align: right;\">\n",
              "      <th></th>\n",
              "      <th>genres</th>\n",
              "      <th>artists</th>\n",
              "      <th>acousticness</th>\n",
              "      <th>danceability</th>\n",
              "      <th>duration_ms</th>\n",
              "      <th>energy</th>\n",
              "      <th>instrumentalness</th>\n",
              "      <th>liveness</th>\n",
              "      <th>loudness</th>\n",
              "      <th>speechiness</th>\n",
              "      <th>tempo</th>\n",
              "      <th>valence</th>\n",
              "      <th>popularity</th>\n",
              "      <th>key</th>\n",
              "      <th>mode</th>\n",
              "      <th>count</th>\n",
              "    </tr>\n",
              "  </thead>\n",
              "  <tbody>\n",
              "    <tr>\n",
              "      <th>0</th>\n",
              "      <td>['show tunes']</td>\n",
              "      <td>\"Cats\" 1981 Original London Cast</td>\n",
              "      <td>0.590111</td>\n",
              "      <td>0.467222</td>\n",
              "      <td>250318.555556</td>\n",
              "      <td>0.394003</td>\n",
              "      <td>0.011400</td>\n",
              "      <td>0.290833</td>\n",
              "      <td>-14.448000</td>\n",
              "      <td>0.210389</td>\n",
              "      <td>117.518111</td>\n",
              "      <td>0.389500</td>\n",
              "      <td>38.333333</td>\n",
              "      <td>5</td>\n",
              "      <td>1</td>\n",
              "      <td>9</td>\n",
              "    </tr>\n",
              "    <tr>\n",
              "      <th>1</th>\n",
              "      <td>[]</td>\n",
              "      <td>\"Cats\" 1983 Broadway Cast</td>\n",
              "      <td>0.862538</td>\n",
              "      <td>0.441731</td>\n",
              "      <td>287280.000000</td>\n",
              "      <td>0.406808</td>\n",
              "      <td>0.081158</td>\n",
              "      <td>0.315215</td>\n",
              "      <td>-10.690000</td>\n",
              "      <td>0.176212</td>\n",
              "      <td>103.044154</td>\n",
              "      <td>0.268865</td>\n",
              "      <td>30.576923</td>\n",
              "      <td>5</td>\n",
              "      <td>1</td>\n",
              "      <td>26</td>\n",
              "    </tr>\n",
              "    <tr>\n",
              "      <th>2</th>\n",
              "      <td>[]</td>\n",
              "      <td>\"Fiddler On The Roof” Motion Picture Chorus</td>\n",
              "      <td>0.856571</td>\n",
              "      <td>0.348286</td>\n",
              "      <td>328920.000000</td>\n",
              "      <td>0.286571</td>\n",
              "      <td>0.024593</td>\n",
              "      <td>0.325786</td>\n",
              "      <td>-15.230714</td>\n",
              "      <td>0.118514</td>\n",
              "      <td>77.375857</td>\n",
              "      <td>0.354857</td>\n",
              "      <td>34.857143</td>\n",
              "      <td>0</td>\n",
              "      <td>1</td>\n",
              "      <td>7</td>\n",
              "    </tr>\n",
              "    <tr>\n",
              "      <th>3</th>\n",
              "      <td>[]</td>\n",
              "      <td>\"Fiddler On The Roof” Motion Picture Orchestra</td>\n",
              "      <td>0.884926</td>\n",
              "      <td>0.425074</td>\n",
              "      <td>262890.962963</td>\n",
              "      <td>0.245770</td>\n",
              "      <td>0.073587</td>\n",
              "      <td>0.275481</td>\n",
              "      <td>-15.639370</td>\n",
              "      <td>0.123200</td>\n",
              "      <td>88.667630</td>\n",
              "      <td>0.372030</td>\n",
              "      <td>34.851852</td>\n",
              "      <td>0</td>\n",
              "      <td>1</td>\n",
              "      <td>27</td>\n",
              "    </tr>\n",
              "    <tr>\n",
              "      <th>4</th>\n",
              "      <td>[]</td>\n",
              "      <td>\"Joseph And The Amazing Technicolor Dreamcoat\"...</td>\n",
              "      <td>0.510714</td>\n",
              "      <td>0.467143</td>\n",
              "      <td>270436.142857</td>\n",
              "      <td>0.488286</td>\n",
              "      <td>0.009400</td>\n",
              "      <td>0.195000</td>\n",
              "      <td>-10.236714</td>\n",
              "      <td>0.098543</td>\n",
              "      <td>122.835857</td>\n",
              "      <td>0.482286</td>\n",
              "      <td>43.000000</td>\n",
              "      <td>5</td>\n",
              "      <td>1</td>\n",
              "      <td>7</td>\n",
              "    </tr>\n",
              "  </tbody>\n",
              "</table>\n",
              "</div>"
            ],
            "text/plain": [
              "           genres  ... count\n",
              "0  ['show tunes']  ...     9\n",
              "1              []  ...    26\n",
              "2              []  ...     7\n",
              "3              []  ...    27\n",
              "4              []  ...     7\n",
              "\n",
              "[5 rows x 16 columns]"
            ]
          },
          "metadata": {
            "tags": []
          },
          "execution_count": 8
        }
      ]
    },
    {
      "cell_type": "code",
      "metadata": {
        "colab": {
          "base_uri": "https://localhost:8080/",
          "height": 202
        },
        "id": "ytKIXpOUKKcT",
        "outputId": "6ae93202-d967-4984-ac43-1cfe7f0a4472"
      },
      "source": [
        "data_by_year.head()"
      ],
      "execution_count": null,
      "outputs": [
        {
          "output_type": "execute_result",
          "data": {
            "text/html": [
              "<div>\n",
              "<style scoped>\n",
              "    .dataframe tbody tr th:only-of-type {\n",
              "        vertical-align: middle;\n",
              "    }\n",
              "\n",
              "    .dataframe tbody tr th {\n",
              "        vertical-align: top;\n",
              "    }\n",
              "\n",
              "    .dataframe thead th {\n",
              "        text-align: right;\n",
              "    }\n",
              "</style>\n",
              "<table border=\"1\" class=\"dataframe\">\n",
              "  <thead>\n",
              "    <tr style=\"text-align: right;\">\n",
              "      <th></th>\n",
              "      <th>mode</th>\n",
              "      <th>year</th>\n",
              "      <th>acousticness</th>\n",
              "      <th>danceability</th>\n",
              "      <th>duration_ms</th>\n",
              "      <th>energy</th>\n",
              "      <th>instrumentalness</th>\n",
              "      <th>liveness</th>\n",
              "      <th>loudness</th>\n",
              "      <th>speechiness</th>\n",
              "      <th>tempo</th>\n",
              "      <th>valence</th>\n",
              "      <th>popularity</th>\n",
              "      <th>key</th>\n",
              "    </tr>\n",
              "  </thead>\n",
              "  <tbody>\n",
              "    <tr>\n",
              "      <th>0</th>\n",
              "      <td>1</td>\n",
              "      <td>1921</td>\n",
              "      <td>0.886896</td>\n",
              "      <td>0.418597</td>\n",
              "      <td>260537.166667</td>\n",
              "      <td>0.231815</td>\n",
              "      <td>0.344878</td>\n",
              "      <td>0.205710</td>\n",
              "      <td>-17.048667</td>\n",
              "      <td>0.073662</td>\n",
              "      <td>101.531493</td>\n",
              "      <td>0.379327</td>\n",
              "      <td>0.653333</td>\n",
              "      <td>2</td>\n",
              "    </tr>\n",
              "    <tr>\n",
              "      <th>1</th>\n",
              "      <td>1</td>\n",
              "      <td>1922</td>\n",
              "      <td>0.938592</td>\n",
              "      <td>0.482042</td>\n",
              "      <td>165469.746479</td>\n",
              "      <td>0.237815</td>\n",
              "      <td>0.434195</td>\n",
              "      <td>0.240720</td>\n",
              "      <td>-19.275282</td>\n",
              "      <td>0.116655</td>\n",
              "      <td>100.884521</td>\n",
              "      <td>0.535549</td>\n",
              "      <td>0.140845</td>\n",
              "      <td>10</td>\n",
              "    </tr>\n",
              "    <tr>\n",
              "      <th>2</th>\n",
              "      <td>1</td>\n",
              "      <td>1923</td>\n",
              "      <td>0.957247</td>\n",
              "      <td>0.577341</td>\n",
              "      <td>177942.362162</td>\n",
              "      <td>0.262406</td>\n",
              "      <td>0.371733</td>\n",
              "      <td>0.227462</td>\n",
              "      <td>-14.129211</td>\n",
              "      <td>0.093949</td>\n",
              "      <td>114.010730</td>\n",
              "      <td>0.625492</td>\n",
              "      <td>5.389189</td>\n",
              "      <td>0</td>\n",
              "    </tr>\n",
              "    <tr>\n",
              "      <th>3</th>\n",
              "      <td>1</td>\n",
              "      <td>1924</td>\n",
              "      <td>0.940200</td>\n",
              "      <td>0.549894</td>\n",
              "      <td>191046.707627</td>\n",
              "      <td>0.344347</td>\n",
              "      <td>0.581701</td>\n",
              "      <td>0.235219</td>\n",
              "      <td>-14.231343</td>\n",
              "      <td>0.092089</td>\n",
              "      <td>120.689572</td>\n",
              "      <td>0.663725</td>\n",
              "      <td>0.661017</td>\n",
              "      <td>10</td>\n",
              "    </tr>\n",
              "    <tr>\n",
              "      <th>4</th>\n",
              "      <td>1</td>\n",
              "      <td>1925</td>\n",
              "      <td>0.962607</td>\n",
              "      <td>0.573863</td>\n",
              "      <td>184986.924460</td>\n",
              "      <td>0.278594</td>\n",
              "      <td>0.418297</td>\n",
              "      <td>0.237668</td>\n",
              "      <td>-14.146414</td>\n",
              "      <td>0.111918</td>\n",
              "      <td>115.521921</td>\n",
              "      <td>0.621929</td>\n",
              "      <td>2.604317</td>\n",
              "      <td>5</td>\n",
              "    </tr>\n",
              "  </tbody>\n",
              "</table>\n",
              "</div>"
            ],
            "text/plain": [
              "   mode  year  acousticness  ...   valence  popularity  key\n",
              "0     1  1921      0.886896  ...  0.379327    0.653333    2\n",
              "1     1  1922      0.938592  ...  0.535549    0.140845   10\n",
              "2     1  1923      0.957247  ...  0.625492    5.389189    0\n",
              "3     1  1924      0.940200  ...  0.663725    0.661017   10\n",
              "4     1  1925      0.962607  ...  0.621929    2.604317    5\n",
              "\n",
              "[5 rows x 14 columns]"
            ]
          },
          "metadata": {
            "tags": []
          },
          "execution_count": 9
        }
      ]
    },
    {
      "cell_type": "code",
      "metadata": {
        "colab": {
          "base_uri": "https://localhost:8080/",
          "height": 202
        },
        "id": "Ujp3GTtWj_Np",
        "outputId": "55f4397d-269d-4a07-aedf-7d7ee9851fbb"
      },
      "source": [
        "data_top50.head()"
      ],
      "execution_count": null,
      "outputs": [
        {
          "output_type": "execute_result",
          "data": {
            "text/html": [
              "<div>\n",
              "<style scoped>\n",
              "    .dataframe tbody tr th:only-of-type {\n",
              "        vertical-align: middle;\n",
              "    }\n",
              "\n",
              "    .dataframe tbody tr th {\n",
              "        vertical-align: top;\n",
              "    }\n",
              "\n",
              "    .dataframe thead th {\n",
              "        text-align: right;\n",
              "    }\n",
              "</style>\n",
              "<table border=\"1\" class=\"dataframe\">\n",
              "  <thead>\n",
              "    <tr style=\"text-align: right;\">\n",
              "      <th></th>\n",
              "      <th>Unnamed: 0</th>\n",
              "      <th>acousticness</th>\n",
              "      <th>danceability</th>\n",
              "      <th>duration_ms</th>\n",
              "      <th>energy</th>\n",
              "      <th>loudness</th>\n",
              "      <th>popularity</th>\n",
              "      <th>speechiness</th>\n",
              "      <th>valence</th>\n",
              "    </tr>\n",
              "  </thead>\n",
              "  <tbody>\n",
              "    <tr>\n",
              "      <th>0</th>\n",
              "      <td>0</td>\n",
              "      <td>0.995</td>\n",
              "      <td>0.708</td>\n",
              "      <td>158648</td>\n",
              "      <td>0.1950</td>\n",
              "      <td>-12.428</td>\n",
              "      <td>0</td>\n",
              "      <td>0.0506</td>\n",
              "      <td>0.7790</td>\n",
              "    </tr>\n",
              "    <tr>\n",
              "      <th>1</th>\n",
              "      <td>1</td>\n",
              "      <td>0.994</td>\n",
              "      <td>0.379</td>\n",
              "      <td>282133</td>\n",
              "      <td>0.0135</td>\n",
              "      <td>-28.454</td>\n",
              "      <td>0</td>\n",
              "      <td>0.0462</td>\n",
              "      <td>0.0767</td>\n",
              "    </tr>\n",
              "    <tr>\n",
              "      <th>2</th>\n",
              "      <td>2</td>\n",
              "      <td>0.604</td>\n",
              "      <td>0.749</td>\n",
              "      <td>104300</td>\n",
              "      <td>0.2200</td>\n",
              "      <td>-19.924</td>\n",
              "      <td>0</td>\n",
              "      <td>0.9290</td>\n",
              "      <td>0.8800</td>\n",
              "    </tr>\n",
              "    <tr>\n",
              "      <th>3</th>\n",
              "      <td>3</td>\n",
              "      <td>0.995</td>\n",
              "      <td>0.781</td>\n",
              "      <td>180760</td>\n",
              "      <td>0.1300</td>\n",
              "      <td>-14.734</td>\n",
              "      <td>0</td>\n",
              "      <td>0.0926</td>\n",
              "      <td>0.7200</td>\n",
              "    </tr>\n",
              "    <tr>\n",
              "      <th>4</th>\n",
              "      <td>4</td>\n",
              "      <td>0.990</td>\n",
              "      <td>0.210</td>\n",
              "      <td>687733</td>\n",
              "      <td>0.2040</td>\n",
              "      <td>-16.829</td>\n",
              "      <td>1</td>\n",
              "      <td>0.0424</td>\n",
              "      <td>0.0693</td>\n",
              "    </tr>\n",
              "  </tbody>\n",
              "</table>\n",
              "</div>"
            ],
            "text/plain": [
              "   Unnamed: 0  acousticness  danceability  ...  popularity  speechiness  valence\n",
              "0           0         0.995         0.708  ...           0       0.0506   0.7790\n",
              "1           1         0.994         0.379  ...           0       0.0462   0.0767\n",
              "2           2         0.604         0.749  ...           0       0.9290   0.8800\n",
              "3           3         0.995         0.781  ...           0       0.0926   0.7200\n",
              "4           4         0.990         0.210  ...           1       0.0424   0.0693\n",
              "\n",
              "[5 rows x 9 columns]"
            ]
          },
          "metadata": {
            "tags": []
          },
          "execution_count": 10
        }
      ]
    },
    {
      "cell_type": "code",
      "metadata": {
        "colab": {
          "base_uri": "https://localhost:8080/"
        },
        "id": "mnHJy2Uz9q2G",
        "outputId": "d38a640f-0a27-48a4-8b10-709f60e951cf"
      },
      "source": [
        "# id는 무의미 할걸로 판단 후 삭제\n",
        "data = data.drop(columns='id')\n",
        "\n",
        "#column정리 (except 'popularity' <---target), (artists, name, release_date <--- object)\n",
        "features = ['valence', 'year', 'acousticness', 'danceability', 'duration_ms', 'energy', 'explicit', 'instrumentalness',\n",
        "            'key', 'liveness', 'loudness', 'mode', 'speechiness', 'tempo']\n",
        "\n",
        "data[data['popularity'] > 95]['name']\n"
      ],
      "execution_count": null,
      "outputs": [
        {
          "output_type": "execute_result",
          "data": {
            "text/plain": [
              "19606             Mood (feat. iann dior)\n",
              "19608    WAP (feat. Megan Thee Stallion)\n",
              "19610                          positions\n",
              "19611                             Dakiti\n",
              "19612            What You Know Bout Love\n",
              "19616                    Blinding Lights\n",
              "19618                           Dynamite\n",
              "Name: name, dtype: object"
            ]
          },
          "metadata": {
            "tags": []
          },
          "execution_count": 11
        }
      ]
    },
    {
      "cell_type": "code",
      "metadata": {
        "colab": {
          "base_uri": "https://localhost:8080/",
          "height": 507
        },
        "id": "q7CgKXYP9RyX",
        "outputId": "9d391644-5b75-48c9-c9c7-3380db8b2766"
      },
      "source": [
        "# insight 발견을 위한 데이터 시각화 진행\n",
        "\n",
        "import seaborn as sns\n",
        "import matplotlib.pyplot as plt\n",
        "%matplotlib inline\n",
        "import numpy as np\n",
        "from sklearn.preprocessing import StandardScaler\n",
        "from yellowbrick.target import FeatureCorrelation\n",
        "from scipy.stats import norm\n",
        "from scipy import stats\n",
        "import warnings\n",
        "warnings.filterwarnings(\"ignore\")\n",
        "\n",
        "#correraltion 확인\n",
        "X = data[features]\n",
        "y = data['popularity']\n",
        "\n",
        "# Create a list of the feature names\n",
        "features = np.array(features)\n",
        "\n",
        "from yellowbrick.target import FeatureCorrelation\n",
        "# Instantiate the visualizer\n",
        "visualizer = FeatureCorrelation(labels=features)\n",
        "\n",
        "plt.rcParams['figure.figsize']=(20,20)\n",
        "visualizer.fit(X, y)     # Fit the data to the visualizer\n",
        "\n",
        "# year, energy, loudness"
      ],
      "execution_count": null,
      "outputs": [
        {
          "output_type": "stream",
          "text": [
            "/usr/local/lib/python3.7/dist-packages/sklearn/utils/deprecation.py:144: FutureWarning: The sklearn.metrics.classification module is  deprecated in version 0.22 and will be removed in version 0.24. The corresponding classes / functions should instead be imported from sklearn.metrics. Anything that cannot be imported from sklearn.metrics is now part of the private API.\n",
            "  warnings.warn(message, FutureWarning)\n"
          ],
          "name": "stderr"
        },
        {
          "output_type": "execute_result",
          "data": {
            "text/plain": [
              "FeatureCorrelation(ax=<matplotlib.axes._subplots.AxesSubplot object at 0x7f731ef15e10>,\n",
              "                   feature_index=None, feature_names=None,\n",
              "                   labels=array(['valence', 'year', 'acousticness', 'danceability', 'duration_ms',\n",
              "       'energy', 'explicit', 'instrumentalness', 'key', 'liveness',\n",
              "       'loudness', 'mode', 'speechiness', 'tempo'], dtype='<U16'),\n",
              "                   method='pearson', sort=False)"
            ]
          },
          "metadata": {
            "tags": []
          },
          "execution_count": 12
        },
        {
          "output_type": "display_data",
          "data": {
            "image/png": "[encoded data removed]",
            "text/plain": [
              "<Figure size 576x396 with 1 Axes>"
            ]
          },
          "metadata": {
            "tags": []
          }
        }
      ]
    },
    {
      "cell_type": "code",
      "metadata": {
        "id": "hAxDN5s2kqeP"
      },
      "source": [
        "# 9개 특성 양수\n",
        "# 5개 특성 음수 "
      ],
      "execution_count": null,
      "outputs": []
    },
    {
      "cell_type": "code",
      "metadata": {
        "colab": {
          "base_uri": "https://localhost:8080/",
          "height": 308
        },
        "id": "WFUcMdL7lR6V",
        "outputId": "6431de92-d0ee-492b-c70e-d313e30ab370"
      },
      "source": [
        "features_o = ['energy','loudness','year']  # corr>0.4 인 특성들 \n",
        "\n",
        "plt.rcParams['figure.figsize'] = (15, 4)\n",
        "\n",
        "plt.subplot(1, 3, 1)\n",
        "sns.distplot(data['energy'])\n",
        "\n",
        "plt.subplot(1, 3, 2)\n",
        "sns.distplot(data['loudness'])\n",
        "\n",
        "plt.subplot(1, 3, 3)\n",
        "sns.distplot(data['year'])\n",
        "\n",
        "plt.suptitle('Checking Feature with more corre ', fontsize = 10)\n",
        "plt.show()"
      ],
      "execution_count": null,
      "outputs": [
        {
          "output_type": "display_data",
          "data": {
            "image/png": "[encoded data removed]",
            "text/plain": [
              "<Figure size 1080x288 with 3 Axes>"
            ]
          },
          "metadata": {
            "tags": []
          }
        }
      ]
    },
    {
      "cell_type": "code",
      "metadata": {
        "colab": {
          "base_uri": "https://localhost:8080/",
          "height": 297
        },
        "id": "eVIA3VHJ6rRQ",
        "outputId": "6d13f700-1737-4b23-b481-4e5a056c9b6a"
      },
      "source": [
        "# EDA, Feature Engeenering start!\n",
        "\n",
        "#년도별로 확인\n",
        "decade_pivot = data_by_year.pivot_table(values='popularity', index='year', aggfunc=sum)\n",
        "decade_pivot.head()\n",
        "decade_pivot.plot()"
      ],
      "execution_count": null,
      "outputs": [
        {
          "output_type": "execute_result",
          "data": {
            "text/plain": [
              "<matplotlib.axes._subplots.AxesSubplot at 0x7f7312fe0810>"
            ]
          },
          "metadata": {
            "tags": []
          },
          "execution_count": 15
        },
        {
          "output_type": "display_data",
          "data": {
            "image/png": "[encoded data removed]",
            "text/plain": [
              "<Figure size 1080x288 with 1 Axes>"
            ]
          },
          "metadata": {
            "tags": []
          }
        }
      ]
    },
    {
      "cell_type": "code",
      "metadata": {
        "colab": {
          "base_uri": "https://localhost:8080/",
          "height": 414
        },
        "id": "teWM8eK7y4-e",
        "outputId": "bf3bafb6-3be1-4f3b-b101-5bfe0dbfd6b5"
      },
      "source": [
        "def get_decade(year):\n",
        "    period_start = int(year/10) * 10\n",
        "    decade = '{}s'.format(period_start)\n",
        "    return decade\n",
        "\n",
        "data['decade'] = data['year'].apply(get_decade)\n",
        "\n",
        "sns.set(rc={'figure.figsize':(11 ,6)})\n",
        "sns.countplot(data['decade'])"
      ],
      "execution_count": null,
      "outputs": [
        {
          "output_type": "execute_result",
          "data": {
            "text/plain": [
              "<matplotlib.axes._subplots.AxesSubplot at 0x7f7311fc5cd0>"
            ]
          },
          "metadata": {
            "tags": []
          },
          "execution_count": 16
        },
        {
          "output_type": "display_data",
          "data": {
            "image/png": "[encoded data removed]",
            "text/plain": [
              "<Figure size 792x432 with 1 Axes>"
            ]
          },
          "metadata": {
            "tags": []
          }
        }
      ]
    },
    {
      "cell_type": "code",
      "metadata": {
        "colab": {
          "base_uri": "https://localhost:8080/",
          "height": 542
        },
        "id": "W106HlV1Dih0",
        "outputId": "098b1b56-6f42-4fbd-8c82-eb2e3f9b0ab9"
      },
      "source": [
        "import plotly.graph_objs as go\n",
        "import plotly.offline as pyoff\n",
        "\n",
        "plot_data = [\n",
        "    go.Scatter(\n",
        "        x=data_by_year['year'],\n",
        "        y=data_by_year['acousticness'],\n",
        "        name = 'acousticness'\n",
        "    ),\n",
        "    go.Scatter(\n",
        "        x=data_by_year['year'],\n",
        "        y=data_by_year['danceability'],\n",
        "        name = 'danceability'\n",
        "    ),\n",
        "    go.Scatter(\n",
        "        x=data_by_year['year'],\n",
        "        y=data_by_year['energy'],\n",
        "        name = 'energy'\n",
        "    ),\n",
        "    go.Scatter(\n",
        "        x=data_by_year['year'],\n",
        "        y=data_by_year['instrumentalness'],\n",
        "        name = 'instrumentalness'\n",
        "    ),\n",
        "    go.Scatter(\n",
        "        x=data_by_year['year'],\n",
        "        y=data_by_year['liveness'],\n",
        "        name = 'liveness'\n",
        "    ),\n",
        "    go.Scatter(\n",
        "        x=data_by_year['year'],\n",
        "        y=data_by_year['valence'],\n",
        "        name = 'valence'\n",
        "    )\n",
        "]\n",
        "\n",
        "plot_layout = go.Layout(\n",
        "        xaxis={\"type\": \"category\"},\n",
        "        title='Sound features'\n",
        "    )\n",
        "fig = go.Figure(data=plot_data, layout=plot_layout)\n",
        "pyoff.iplot(fig)"
      ],
      "execution_count": null,
      "outputs": [
        {
          "output_type": "display_data",
          "data": {
            "text/html": [
              "<html>\n",
              "<head><meta charset=\"utf-8\" /></head>\n",
              "<body>\n",
              "    <div>\n",
              "            <script src=\"https://cdnjs.cloudflare.com/ajax/libs/mathjax/2.7.5/MathJax.js?config=TeX-AMS-MML_SVG\"></script><script type=\"text/javascript\">if (window.MathJax) {MathJax.Hub.Config({SVG: {font: \"STIX-Web\"}});}</script>\n",
              "                <script type=\"text/javascript\">window.PlotlyConfig = {MathJaxConfig: 'local'};</script>\n",
              "        <script src=\"https://cdn.plot.ly/plotly-latest.min.js\"></script>    \n",
              "            <div id=\"bb671e5d-5ba1-47a4-a999-46216b6af43c\" class=\"plotly-graph-div\" style=\"height:525px; width:100%;\"></div>\n",
              "            <script type=\"text/javascript\">\n",
              "                \n",
              "                    window.PLOTLYENV=window.PLOTLYENV || {};\n",
              "                    \n",
              "                if (document.getElementById(\"bb671e5d-5ba1-47a4-a999-46216b6af43c\")) {\n",
              "                    Plotly.newPlot(\n",
              "                        'bb671e5d-5ba1-47a4-a999-46216b6af43c',\n",
              "                        [{\"name\": \"acousticness\", \"type\": \"scatter\", \"x\": [1921, 1922, 1923, 1924, 1925, 1926, 1927, 1928, 1929, 1930, 1931, 1932, 1933, 1934, 1935, 1936, 1937, 1938, 1939, 1940, 1941, 1942, 1943, 1944, 1945, 1946, 1947, 1948, 1949, 1950, 1951, 1952, 1953, 1954, 1955, 1956, 1957, 1958, 1959, 1960, 1961, 1962, 1963, 1964, 1965, 1966, 1967, 1968, 1969, 1970, 1971, 1972, 1973, 1974, 1975, 1976, 1977, 1978, 1979, 1980, 1981, 1982, 1983, 1984, 1985, 1986, 1987, 1988, 1989, 1990, 1991, 1992, 1993, 1994, 1995, 1996, 1997, 1998, 1999, 2000, 2001, 2002, 2003, 2004, 2005, 2006, 2007, 2008, 2009, 2010, 2011, 2012, 2013, 2014, 2015, 2016, 2017, 2018, 2019, 2020], \"y\": [0.8868960000000005, 0.9385915492957748, 0.9572467913513516, 0.940199860169493, 0.9626070503597138, 0.660817216981134, 0.9361794552845558, 0.9386165035685952, 0.6014265861344558, 0.936714937370057, 0.8330399585921336, 0.9357705179282878, 0.899897909117222, 0.8911487501730107, 0.7783855599472987, 0.7723120800000008, 0.8654357853881286, 0.9192803908646014, 0.9087381000000004, 0.8476440499999951, 0.8957376562500025, 0.8529343703923857, 0.9027523185915528, 0.9076531914893636, 0.7096568630000005, 0.9199445823665852, 0.9139650224242392, 0.9221549999999956, 0.9075328949999956, 0.8539413005999965, 0.9022971956499974, 0.8743009244999965, 0.8909223502564074, 0.8650197272999992, 0.8405510069999986, 0.8230569899999975, 0.7928023589743608, 0.7796118650000005, 0.7793927897435907, 0.7671814843243259, 0.7519038684210535, 0.720607806842106, 0.7227048300000004, 0.6941005307692291, 0.6099113295384619, 0.5248094599699997, 0.5296103243521767, 0.4937702403500001, 0.4488463039999994, 0.4600571139500007, 0.4583362981000009, 0.4600428051999994, 0.4165241889999992, 0.4472074226000001, 0.4337738871950005, 0.36147063210999936, 0.3393025333750004, 0.32896857344999936, 0.29593224063, 0.28495539763589706, 0.3012042267400006, 0.2895800382050001, 0.2947778916300001, 0.2877095803450008, 0.2965709032099995, 0.285080656425, 0.3116640663948722, 0.32200994651282105, 0.3133512518150009, 0.3328699505850001, 0.33276529163076995, 0.3208087638250009, 0.3090685537400004, 0.3062343630899999, 0.30251180612000045, 0.30102687980000065, 0.3067156934549995, 0.29148946157000016, 0.2715901110661201, 0.28932270051635994, 0.2868424748428934, 0.28262428988500105, 0.25647051817297833, 0.2805589466225845, 0.2557635068666665, 0.2799863520256408, 0.2540809575538463, 0.2491917627212275, 0.26192861909693904, 0.2426866435515872, 0.273182662518592, 0.24995304438046245, 0.2574880859564779, 0.24931264588029906, 0.2539522577102332, 0.28417102995548144, 0.2860990665261043, 0.2676329907750836, 0.2782985863365824, 0.2199308880935964]}, {\"name\": \"danceability\", \"type\": \"scatter\", \"x\": [1921, 1922, 1923, 1924, 1925, 1926, 1927, 1928, 1929, 1930, 1931, 1932, 1933, 1934, 1935, 1936, 1937, 1938, 1939, 1940, 1941, 1942, 1943, 1944, 1945, 1946, 1947, 1948, 1949, 1950, 1951, 1952, 1953, 1954, 1955, 1956, 1957, 1958, 1959, 1960, 1961, 1962, 1963, 1964, 1965, 1966, 1967, 1968, 1969, 1970, 1971, 1972, 1973, 1974, 1975, 1976, 1977, 1978, 1979, 1980, 1981, 1982, 1983, 1984, 1985, 1986, 1987, 1988, 1989, 1990, 1991, 1992, 1993, 1994, 1995, 1996, 1997, 1998, 1999, 2000, 2001, 2002, 2003, 2004, 2005, 2006, 2007, 2008, 2009, 2010, 2011, 2012, 2013, 2014, 2015, 2016, 2017, 2018, 2019, 2020], \"y\": [0.4185973333333336, 0.4820422535211267, 0.5773405405405401, 0.5498940677966102, 0.5738633093525181, 0.5998802612481859, 0.6482682926829262, 0.5342878667724027, 0.6476698529411761, 0.5181758835758836, 0.5952217391304357, 0.5577976095617526, 0.57029030390738, 0.528705882352941, 0.5558691699604746, 0.5580055454545453, 0.5421572298325723, 0.479977977161501, 0.5126828, 0.52189235, 0.4804813541666676, 0.4646338882282997, 0.4551456338028168, 0.5001744680851068, 0.5191431500000011, 0.4144450116009276, 0.4713208484848491, 0.4633694736842109, 0.4421993999999996, 0.5042531000000008, 0.4624800999999999, 0.4570322000000001, 0.4374260512820513, 0.4656388999999994, 0.4881312, 0.4878145000000007, 0.5034812307692305, 0.4800213999999995, 0.4821143076923083, 0.4860292432432435, 0.4891655789473678, 0.4931643684210523, 0.48162135, 0.5041769743589742, 0.5034505641025638, 0.5070204999999981, 0.4926885942971483, 0.5010080999999997, 0.4880977999999999, 0.5063075000000004, 0.5042738499999999, 0.5209994499999997, 0.5154494500000005, 0.51533975, 0.5209980000000007, 0.5297624999999999, 0.5333237000000017, 0.5407746000000005, 0.5620453000000001, 0.5561523589743594, 0.5421846999999999, 0.5642594000000005, 0.5456292999999998, 0.5303089499999987, 0.5556424000000012, 0.5409334000000001, 0.5410193333333342, 0.5404594358974372, 0.5472274499999988, 0.5352986500000001, 0.5558243589743591, 0.5550648499999989, 0.5698781500000001, 0.5528299500000016, 0.5590457500000001, 0.5878306000000001, 0.5768138499999994, 0.5862116499999998, 0.5821579190158892, 0.590918047034764, 0.5833178553615969, 0.5761602999999997, 0.5757633060388944, 0.5676803662258397, 0.5722805641025652, 0.5682301538461539, 0.5634143589743592, 0.5791928388746803, 0.5641903571428577, 0.5724883432539687, 0.5528669806643526, 0.5708818508997433, 0.5711480263157896, 0.5899476807980057, 0.5937740628166152, 0.6002023928770179, 0.6122170180722886, 0.6635004755111744, 0.6448141097998967, 0.6929043349753701]}, {\"name\": \"energy\", \"type\": \"scatter\", \"x\": [1921, 1922, 1923, 1924, 1925, 1926, 1927, 1928, 1929, 1930, 1931, 1932, 1933, 1934, 1935, 1936, 1937, 1938, 1939, 1940, 1941, 1942, 1943, 1944, 1945, 1946, 1947, 1948, 1949, 1950, 1951, 1952, 1953, 1954, 1955, 1956, 1957, 1958, 1959, 1960, 1961, 1962, 1963, 1964, 1965, 1966, 1967, 1968, 1969, 1970, 1971, 1972, 1973, 1974, 1975, 1976, 1977, 1978, 1979, 1980, 1981, 1982, 1983, 1984, 1985, 1986, 1987, 1988, 1989, 1990, 1991, 1992, 1993, 1994, 1995, 1996, 1997, 1998, 1999, 2000, 2001, 2002, 2003, 2004, 2005, 2006, 2007, 2008, 2009, 2010, 2011, 2012, 2013, 2014, 2015, 2016, 2017, 2018, 2019, 2020], \"y\": [0.2318151333333333, 0.237815352112676, 0.2624064864864865, 0.3443466101694912, 0.2785935251798561, 0.2114670907111756, 0.2643213008130081, 0.20794779540047573, 0.2418007352941172, 0.3335239189189189, 0.2344967732919257, 0.3020677290836656, 0.2798994211287988, 0.2621313148788928, 0.2463669762845848, 0.3083886092727274, 0.31104829528158273, 0.2809812398042416, 0.2826715000000002, 0.3108928949999999, 0.2656431979166666, 0.2560794708680144, 0.27999004225352114, 0.2534414494680852, 0.2260444155, 0.22217230858468667, 0.2635512000000002, 0.242464841052632, 0.24611461499999965, 0.3140711950000003, 0.25466565500000005, 0.25362601000000023, 0.2661968307692306, 0.264347385, 0.2950963400000001, 0.30476112000000016, 0.2952791333333324, 0.3087957550000006, 0.3109944051282049, 0.3411423783783781, 0.3395318673684203, 0.3710257, 0.3653538849999999, 0.394438825641026, 0.4490272461538461, 0.482208465, 0.44682383191595854, 0.4569696500000004, 0.4876251299999994, 0.495633050000001, 0.4963612550000003, 0.5045261799999999, 0.5361382499999989, 0.5147236550000011, 0.5232085050000003, 0.5538432500000001, 0.560287959000001, 0.5614288650000007, 0.5910127149999996, 0.5977773948717964, 0.5993827249999998, 0.5909193894999996, 0.6014252350000012, 0.5910916750000013, 0.6015154800000013, 0.6149545999999998, 0.5798395538461533, 0.5856792461538458, 0.584046375000001, 0.5715913950000007, 0.5594023641025635, 0.5828642050000001, 0.5625599100000002, 0.578772685000001, 0.5785795100000009, 0.5860684750000011, 0.5986987151000001, 0.6051975050000015, 0.6375226022552535, 0.6254128323108387, 0.6269855221945144, 0.6412697960000012, 0.6601652610030712, 0.6488679450661226, 0.653208511282051, 0.6503262820512825, 0.6683047743589737, 0.6714608207672623, 0.6707487551020408, 0.6817778026289684, 0.6483008934060499, 0.6565714601542408, 0.6455968914473688, 0.6487954437905223, 0.6270642715298895, 0.5928552316082347, 0.5904210208835337, 0.6024346220161672, 0.5932240360184717, 0.6312316354679793]}, {\"name\": \"instrumentalness\", \"type\": \"scatter\", \"x\": [1921, 1922, 1923, 1924, 1925, 1926, 1927, 1928, 1929, 1930, 1931, 1932, 1933, 1934, 1935, 1936, 1937, 1938, 1939, 1940, 1941, 1942, 1943, 1944, 1945, 1946, 1947, 1948, 1949, 1950, 1951, 1952, 1953, 1954, 1955, 1956, 1957, 1958, 1959, 1960, 1961, 1962, 1963, 1964, 1965, 1966, 1967, 1968, 1969, 1970, 1971, 1972, 1973, 1974, 1975, 1976, 1977, 1978, 1979, 1980, 1981, 1982, 1983, 1984, 1985, 1986, 1987, 1988, 1989, 1990, 1991, 1992, 1993, 1994, 1995, 1996, 1997, 1998, 1999, 2000, 2001, 2002, 2003, 2004, 2005, 2006, 2007, 2008, 2009, 2010, 2011, 2012, 2013, 2014, 2015, 2016, 2017, 2018, 2019, 2020], \"y\": [0.34487805886666656, 0.4341948697183099, 0.37173272502702703, 0.5817009136440677, 0.4182973612230215, 0.3330931111175616, 0.3913284986504065, 0.4948354801348136, 0.21520403106092464, 0.35220592816528057, 0.22141964161490724, 0.22635657916334675, 0.1839489396816208, 0.276382266643599, 0.2258732980895915, 0.2571099957181816, 0.3270876216438359, 0.3784246349265906, 0.2776824694100001, 0.31684869986499986, 0.4449516393124999, 0.39288204787158093, 0.4098969234647892, 0.4492919654122334, 0.2758942570149996, 0.4861264096461711, 0.3475934179090908, 0.3554848223842104, 0.2977615361899994, 0.24500082001499998, 0.3084378555850002, 0.2884126469300002, 0.3183223943230766, 0.2974400082799999, 0.21660442169000027, 0.2387634177800001, 0.1945206161692309, 0.18124111005999985, 0.18814819406153835, 0.1765021594216216, 0.26462325314210544, 0.17147155094210545, 0.18543231468, 0.1595978017794872, 0.1183659460923078, 0.11512595556499995, 0.1189468546723362, 0.11277694928500002, 0.15945270816500012, 0.12756700308499988, 0.12501788923, 0.11488033375999974, 0.09968022322999996, 0.11636098351000007, 0.11132203374499992, 0.12162904398000007, 0.12772103194499998, 0.10038121450999994, 0.11575137201500015, 0.1287510612717948, 0.14683794661999985, 0.10001638300000004, 0.14541052329000045, 0.14517303973500045, 0.11373855807499987, 0.10994085436499992, 0.10197451746666662, 0.11719038022051302, 0.11318254461499995, 0.12582626809499972, 0.11509233979999993, 0.1006900830649998, 0.11529396538000007, 0.11188575994999997, 0.12326879606999998, 0.09505281203500013, 0.10469017861999998, 0.1113257503499999, 0.09406814106611992, 0.10116776879345596, 0.10721401899251867, 0.08804835031499995, 0.08304927466734914, 0.07793403490844357, 0.09019436118461543, 0.07770147187692314, 0.07295726805128197, 0.0636620903171356, 0.07587207368367352, 0.08298056821924611, 0.10377233216658402, 0.08520552067866319, 0.09836505391700387, 0.07656955483790515, 0.1067868780547114, 0.09398438711741793, 0.09709060906626496, 0.05421712166904419, 0.07764024697280643, 0.016375524305418724]}, {\"name\": \"liveness\", \"type\": \"scatter\", \"x\": [1921, 1922, 1923, 1924, 1925, 1926, 1927, 1928, 1929, 1930, 1931, 1932, 1933, 1934, 1935, 1936, 1937, 1938, 1939, 1940, 1941, 1942, 1943, 1944, 1945, 1946, 1947, 1948, 1949, 1950, 1951, 1952, 1953, 1954, 1955, 1956, 1957, 1958, 1959, 1960, 1961, 1962, 1963, 1964, 1965, 1966, 1967, 1968, 1969, 1970, 1971, 1972, 1973, 1974, 1975, 1976, 1977, 1978, 1979, 1980, 1981, 1982, 1983, 1984, 1985, 1986, 1987, 1988, 1989, 1990, 1991, 1992, 1993, 1994, 1995, 1996, 1997, 1998, 1999, 2000, 2001, 2002, 2003, 2004, 2005, 2006, 2007, 2008, 2009, 2010, 2011, 2012, 2013, 2014, 2015, 2016, 2017, 2018, 2019, 2020], \"y\": [0.20571, 0.2407197183098592, 0.2274621621621621, 0.2352190677966101, 0.2376679856115108, 0.2323695936139332, 0.16845024390243893, 0.17528937351308488, 0.2360002100840333, 0.22131086278586296, 0.22742795031055896, 0.23249621513944224, 0.2090719247467437, 0.21345259515570927, 0.2292998682476943, 0.2214382727272726, 0.2259677321156773, 0.23711109298531802, 0.2391015999999999, 0.26433510000000043, 0.20183989583333312, 0.2128784185493456, 0.2392107042253525, 0.2387719414893616, 0.2030099500000001, 0.2108183294663576, 0.22382939393939366, 0.21969357894736785, 0.2088585500000004, 0.2169584000000004, 0.21777739999999995, 0.2329722999999998, 0.22173405128205104, 0.2178411499999996, 0.2214353500000001, 0.18225715000000026, 0.1827485641025636, 0.2058408500000003, 0.1918429230769232, 0.20786372972972986, 0.2089125789473681, 0.20189573684210546, 0.20374530000000027, 0.2172323589743596, 0.2138391282051285, 0.2180931, 0.19091765882941508, 0.2173509500000005, 0.20696589999999992, 0.21226880000000026, 0.21491455000000007, 0.20695495000000014, 0.2013747499999997, 0.20934634999999968, 0.21544135000000025, 0.24903219999999995, 0.2232140500000004, 0.21807094999999949, 0.21344310000000027, 0.20375410256410267, 0.2250998999999999, 0.20100675, 0.1989224500000002, 0.19770620000000005, 0.19920644999999984, 0.21187945000000014, 0.20201810256410305, 0.20770753846153808, 0.19908020000000007, 0.19096090000000004, 0.18862892307692355, 0.20024550000000071, 0.1949322500000003, 0.1921651000000001, 0.2013737000000004, 0.1986863000000002, 0.1984788000000003, 0.1937308999999996, 0.20630804715530507, 0.1976860429447853, 0.18702563591022486, 0.1939111999999998, 0.196976305015353, 0.2021994404883014, 0.19008162564102585, 0.1882892820512821, 0.19612656410256424, 0.19843140664961625, 0.2052522959183674, 0.19970064484126995, 0.20330882498760566, 0.1897330077120824, 0.19963081983805714, 0.1918215960099752, 0.18885643363728474, 0.18116989426822505, 0.1917126004016064, 0.17632553495007114, 0.17261641867624464, 0.1785354187192117]}, {\"name\": \"valence\", \"type\": \"scatter\", \"x\": [1921, 1922, 1923, 1924, 1925, 1926, 1927, 1928, 1929, 1930, 1931, 1932, 1933, 1934, 1935, 1936, 1937, 1938, 1939, 1940, 1941, 1942, 1943, 1944, 1945, 1946, 1947, 1948, 1949, 1950, 1951, 1952, 1953, 1954, 1955, 1956, 1957, 1958, 1959, 1960, 1961, 1962, 1963, 1964, 1965, 1966, 1967, 1968, 1969, 1970, 1971, 1972, 1973, 1974, 1975, 1976, 1977, 1978, 1979, 1980, 1981, 1982, 1983, 1984, 1985, 1986, 1987, 1988, 1989, 1990, 1991, 1992, 1993, 1994, 1995, 1996, 1997, 1998, 1999, 2000, 2001, 2002, 2003, 2004, 2005, 2006, 2007, 2008, 2009, 2010, 2011, 2012, 2013, 2014, 2015, 2016, 2017, 2018, 2019, 2020], \"y\": [0.37932666666666665, 0.5355492957746479, 0.6254924324324328, 0.6637254237288139, 0.6219287769784171, 0.4369104571843251, 0.6597004878048782, 0.4957126883425853, 0.6365298319327733, 0.6162376299376306, 0.5131170807453418, 0.5881599601593626, 0.5994099855282197, 0.5588046712802772, 0.5455777997364957, 0.5640635454545455, 0.5857894977168944, 0.5149111092985317, 0.5599248999999992, 0.6167094700000009, 0.4794560416666661, 0.4774088585017848, 0.4954545070422531, 0.5406954787234041, 0.4913613500000002, 0.3982538283062647, 0.5082125454545455, 0.4621423684210526, 0.4304195000000001, 0.5516497000000001, 0.44134755, 0.44313496204999947, 0.42914205128205135, 0.4523410500000002, 0.4724154999999997, 0.5084230500000003, 0.5110101538461542, 0.4976614999999994, 0.4784156410256422, 0.5239316756756759, 0.5128512105263155, 0.5477920526315792, 0.5415274500000008, 0.55726042051282, 0.5809506666666668, 0.5801445499999996, 0.5507916958479243, 0.5659936500000002, 0.5547452849999999, 0.5720753999999992, 0.5749132500000002, 0.5956881500000009, 0.5921162000000004, 0.5812744000000009, 0.5694151500000002, 0.5807332499999998, 0.58524655, 0.5895352500000014, 0.6099818000000005, 0.5980580512820513, 0.5829518500000006, 0.5864384500000001, 0.5721198999999989, 0.5516387100000003, 0.5655964500000001, 0.5509485500000019, 0.5414511794871785, 0.5464853897435901, 0.5483329000000007, 0.5265268499999999, 0.5486552307692295, 0.5590983000000014, 0.5555684500000001, 0.5266491500000006, 0.5302466999999994, 0.5608732500000001, 0.5485525000000002, 0.5377209, 0.5564528446950284, 0.5594754601226991, 0.541479107231919, 0.5423971500000008, 0.5305042476970324, 0.5244885554425227, 0.5325309230769236, 0.5200283076923078, 0.5167938461538473, 0.5275418925831203, 0.5071696617346935, 0.5208951587301589, 0.4724536787307882, 0.4627090128534706, 0.4547411943319834, 0.4630487780548628, 0.4320983687943254, 0.4315320589872012, 0.4164763112449793, 0.4479212743699474, 0.4588176295536167, 0.5010478078817729]}],\n",
              "                        {\"template\": {\"data\": {\"bar\": [{\"error_x\": {\"color\": \"#2a3f5f\"}, \"error_y\": {\"color\": \"#2a3f5f\"}, \"marker\": {\"line\": {\"color\": \"#E5ECF6\", \"width\": 0.5}}, \"type\": \"bar\"}], \"barpolar\": [{\"marker\": {\"line\": {\"color\": \"#E5ECF6\", \"width\": 0.5}}, \"type\": \"barpolar\"}], \"carpet\": [{\"aaxis\": {\"endlinecolor\": \"#2a3f5f\", \"gridcolor\": \"white\", \"linecolor\": \"white\", \"minorgridcolor\": \"white\", \"startlinecolor\": \"#2a3f5f\"}, \"baxis\": {\"endlinecolor\": \"#2a3f5f\", \"gridcolor\": \"white\", \"linecolor\": \"white\", \"minorgridcolor\": \"white\", \"startlinecolor\": \"#2a3f5f\"}, \"type\": \"carpet\"}], \"choropleth\": [{\"colorbar\": {\"outlinewidth\": 0, \"ticks\": \"\"}, \"type\": \"choropleth\"}], \"contour\": [{\"colorbar\": {\"outlinewidth\": 0, \"ticks\": \"\"}, \"colorscale\": [[0.0, \"#0d0887\"], [0.1111111111111111, \"#46039f\"], [0.2222222222222222, \"#7201a8\"], [0.3333333333333333, \"#9c179e\"], [0.4444444444444444, \"#bd3786\"], [0.5555555555555556, \"#d8576b\"], [0.6666666666666666, \"#ed7953\"], [0.7777777777777778, \"#fb9f3a\"], [0.8888888888888888, \"#fdca26\"], [1.0, \"#f0f921\"]], \"type\": \"contour\"}], \"contourcarpet\": [{\"colorbar\": {\"outlinewidth\": 0, \"ticks\": \"\"}, \"type\": \"contourcarpet\"}], \"heatmap\": [{\"colorbar\": {\"outlinewidth\": 0, \"ticks\": \"\"}, \"colorscale\": [[0.0, \"#0d0887\"], [0.1111111111111111, \"#46039f\"], [0.2222222222222222, \"#7201a8\"], [0.3333333333333333, \"#9c179e\"], [0.4444444444444444, \"#bd3786\"], [0.5555555555555556, \"#d8576b\"], [0.6666666666666666, \"#ed7953\"], [0.7777777777777778, \"#fb9f3a\"], [0.8888888888888888, \"#fdca26\"], [1.0, \"#f0f921\"]], \"type\": \"heatmap\"}], \"heatmapgl\": [{\"colorbar\": {\"outlinewidth\": 0, \"ticks\": \"\"}, \"colorscale\": [[0.0, \"#0d0887\"], [0.1111111111111111, \"#46039f\"], [0.2222222222222222, \"#7201a8\"], [0.3333333333333333, \"#9c179e\"], [0.4444444444444444, \"#bd3786\"], [0.5555555555555556, \"#d8576b\"], [0.6666666666666666, \"#ed7953\"], [0.7777777777777778, \"#fb9f3a\"], [0.8888888888888888, \"#fdca26\"], [1.0, \"#f0f921\"]], \"type\": \"heatmapgl\"}], \"histogram\": [{\"marker\": {\"colorbar\": {\"outlinewidth\": 0, \"ticks\": \"\"}}, \"type\": \"histogram\"}], \"histogram2d\": [{\"colorbar\": {\"outlinewidth\": 0, \"ticks\": \"\"}, \"colorscale\": [[0.0, \"#0d0887\"], [0.1111111111111111, \"#46039f\"], [0.2222222222222222, \"#7201a8\"], [0.3333333333333333, \"#9c179e\"], [0.4444444444444444, \"#bd3786\"], [0.5555555555555556, \"#d8576b\"], [0.6666666666666666, \"#ed7953\"], [0.7777777777777778, \"#fb9f3a\"], [0.8888888888888888, \"#fdca26\"], [1.0, \"#f0f921\"]], \"type\": \"histogram2d\"}], \"histogram2dcontour\": [{\"colorbar\": {\"outlinewidth\": 0, \"ticks\": \"\"}, \"colorscale\": [[0.0, \"#0d0887\"], [0.1111111111111111, \"#46039f\"], [0.2222222222222222, \"#7201a8\"], [0.3333333333333333, \"#9c179e\"], [0.4444444444444444, \"#bd3786\"], [0.5555555555555556, \"#d8576b\"], [0.6666666666666666, \"#ed7953\"], [0.7777777777777778, \"#fb9f3a\"], [0.8888888888888888, \"#fdca26\"], [1.0, \"#f0f921\"]], \"type\": \"histogram2dcontour\"}], \"mesh3d\": [{\"colorbar\": {\"outlinewidth\": 0, \"ticks\": \"\"}, \"type\": \"mesh3d\"}], \"parcoords\": [{\"line\": {\"colorbar\": {\"outlinewidth\": 0, \"ticks\": \"\"}}, \"type\": \"parcoords\"}], \"pie\": [{\"automargin\": true, \"type\": \"pie\"}], \"scatter\": [{\"marker\": {\"colorbar\": {\"outlinewidth\": 0, \"ticks\": \"\"}}, \"type\": \"scatter\"}], \"scatter3d\": [{\"line\": {\"colorbar\": {\"outlinewidth\": 0, \"ticks\": \"\"}}, \"marker\": {\"colorbar\": {\"outlinewidth\": 0, \"ticks\": \"\"}}, \"type\": \"scatter3d\"}], \"scattercarpet\": [{\"marker\": {\"colorbar\": {\"outlinewidth\": 0, \"ticks\": \"\"}}, \"type\": \"scattercarpet\"}], \"scattergeo\": [{\"marker\": {\"colorbar\": {\"outlinewidth\": 0, \"ticks\": \"\"}}, \"type\": \"scattergeo\"}], \"scattergl\": [{\"marker\": {\"colorbar\": {\"outlinewidth\": 0, \"ticks\": \"\"}}, \"type\": \"scattergl\"}], \"scattermapbox\": [{\"marker\": {\"colorbar\": {\"outlinewidth\": 0, \"ticks\": \"\"}}, \"type\": \"scattermapbox\"}], \"scatterpolar\": [{\"marker\": {\"colorbar\": {\"outlinewidth\": 0, \"ticks\": \"\"}}, \"type\": \"scatterpolar\"}], \"scatterpolargl\": [{\"marker\": {\"colorbar\": {\"outlinewidth\": 0, \"ticks\": \"\"}}, \"type\": \"scatterpolargl\"}], \"scatterternary\": [{\"marker\": {\"colorbar\": {\"outlinewidth\": 0, \"ticks\": \"\"}}, \"type\": \"scatterternary\"}], \"surface\": [{\"colorbar\": {\"outlinewidth\": 0, \"ticks\": \"\"}, \"colorscale\": [[0.0, \"#0d0887\"], [0.1111111111111111, \"#46039f\"], [0.2222222222222222, \"#7201a8\"], [0.3333333333333333, \"#9c179e\"], [0.4444444444444444, \"#bd3786\"], [0.5555555555555556, \"#d8576b\"], [0.6666666666666666, \"#ed7953\"], [0.7777777777777778, \"#fb9f3a\"], [0.8888888888888888, \"#fdca26\"], [1.0, \"#f0f921\"]], \"type\": \"surface\"}], \"table\": [{\"cells\": {\"fill\": {\"color\": \"#EBF0F8\"}, \"line\": {\"color\": \"white\"}}, \"header\": {\"fill\": {\"color\": \"#C8D4E3\"}, \"line\": {\"color\": \"white\"}}, \"type\": \"table\"}]}, \"layout\": {\"annotationdefaults\": {\"arrowcolor\": \"#2a3f5f\", \"arrowhead\": 0, \"arrowwidth\": 1}, \"coloraxis\": {\"colorbar\": {\"outlinewidth\": 0, \"ticks\": \"\"}}, \"colorscale\": {\"diverging\": [[0, \"#8e0152\"], [0.1, \"#c51b7d\"], [0.2, \"#de77ae\"], [0.3, \"#f1b6da\"], [0.4, \"#fde0ef\"], [0.5, \"#f7f7f7\"], [0.6, \"#e6f5d0\"], [0.7, \"#b8e186\"], [0.8, \"#7fbc41\"], [0.9, \"#4d9221\"], [1, \"#276419\"]], \"sequential\": [[0.0, \"#0d0887\"], [0.1111111111111111, \"#46039f\"], [0.2222222222222222, \"#7201a8\"], [0.3333333333333333, \"#9c179e\"], [0.4444444444444444, \"#bd3786\"], [0.5555555555555556, \"#d8576b\"], [0.6666666666666666, \"#ed7953\"], [0.7777777777777778, \"#fb9f3a\"], [0.8888888888888888, \"#fdca26\"], [1.0, \"#f0f921\"]], \"sequentialminus\": [[0.0, \"#0d0887\"], [0.1111111111111111, \"#46039f\"], [0.2222222222222222, \"#7201a8\"], [0.3333333333333333, \"#9c179e\"], [0.4444444444444444, \"#bd3786\"], [0.5555555555555556, \"#d8576b\"], [0.6666666666666666, \"#ed7953\"], [0.7777777777777778, \"#fb9f3a\"], [0.8888888888888888, \"#fdca26\"], [1.0, \"#f0f921\"]]}, \"colorway\": [\"#636efa\", \"#EF553B\", \"#00cc96\", \"#ab63fa\", \"#FFA15A\", \"#19d3f3\", \"#FF6692\", \"#B6E880\", \"#FF97FF\", \"#FECB52\"], \"font\": {\"color\": \"#2a3f5f\"}, \"geo\": {\"bgcolor\": \"white\", \"lakecolor\": \"white\", \"landcolor\": \"#E5ECF6\", \"showlakes\": true, \"showland\": true, \"subunitcolor\": \"white\"}, \"hoverlabel\": {\"align\": \"left\"}, \"hovermode\": \"closest\", \"mapbox\": {\"style\": \"light\"}, \"paper_bgcolor\": \"white\", \"plot_bgcolor\": \"#E5ECF6\", \"polar\": {\"angularaxis\": {\"gridcolor\": \"white\", \"linecolor\": \"white\", \"ticks\": \"\"}, \"bgcolor\": \"#E5ECF6\", \"radialaxis\": {\"gridcolor\": \"white\", \"linecolor\": \"white\", \"ticks\": \"\"}}, \"scene\": {\"xaxis\": {\"backgroundcolor\": \"#E5ECF6\", \"gridcolor\": \"white\", \"gridwidth\": 2, \"linecolor\": \"white\", \"showbackground\": true, \"ticks\": \"\", \"zerolinecolor\": \"white\"}, \"yaxis\": {\"backgroundcolor\": \"#E5ECF6\", \"gridcolor\": \"white\", \"gridwidth\": 2, \"linecolor\": \"white\", \"showbackground\": true, \"ticks\": \"\", \"zerolinecolor\": \"white\"}, \"zaxis\": {\"backgroundcolor\": \"#E5ECF6\", \"gridcolor\": \"white\", \"gridwidth\": 2, \"linecolor\": \"white\", \"showbackground\": true, \"ticks\": \"\", \"zerolinecolor\": \"white\"}}, \"shapedefaults\": {\"line\": {\"color\": \"#2a3f5f\"}}, \"ternary\": {\"aaxis\": {\"gridcolor\": \"white\", \"linecolor\": \"white\", \"ticks\": \"\"}, \"baxis\": {\"gridcolor\": \"white\", \"linecolor\": \"white\", \"ticks\": \"\"}, \"bgcolor\": \"#E5ECF6\", \"caxis\": {\"gridcolor\": \"white\", \"linecolor\": \"white\", \"ticks\": \"\"}}, \"title\": {\"x\": 0.05}, \"xaxis\": {\"automargin\": true, \"gridcolor\": \"white\", \"linecolor\": \"white\", \"ticks\": \"\", \"title\": {\"standoff\": 15}, \"zerolinecolor\": \"white\", \"zerolinewidth\": 2}, \"yaxis\": {\"automargin\": true, \"gridcolor\": \"white\", \"linecolor\": \"white\", \"ticks\": \"\", \"title\": {\"standoff\": 15}, \"zerolinecolor\": \"white\", \"zerolinewidth\": 2}}}, \"title\": {\"text\": \"Sound features\"}, \"xaxis\": {\"type\": \"category\"}},\n",
              "                        {\"responsive\": true}\n",
              "                    ).then(function(){\n",
              "                            \n",
              "var gd = document.getElementById('bb671e5d-5ba1-47a4-a999-46216b6af43c');\n",
              "var x = new MutationObserver(function (mutations, observer) {{\n",
              "        var display = window.getComputedStyle(gd).display;\n",
              "        if (!display || display === 'none') {{\n",
              "            console.log([gd, 'removed!']);\n",
              "            Plotly.purge(gd);\n",
              "            observer.disconnect();\n",
              "        }}\n",
              "}});\n",
              "\n",
              "// Listen for the removal of the full notebook cells\n",
              "var notebookContainer = gd.closest('#notebook-container');\n",
              "if (notebookContainer) {{\n",
              "    x.observe(notebookContainer, {childList: true});\n",
              "}}\n",
              "\n",
              "// Listen for the clearing of the current output cell\n",
              "var outputEl = gd.closest('.output');\n",
              "if (outputEl) {{\n",
              "    x.observe(outputEl, {childList: true});\n",
              "}}\n",
              "\n",
              "                        })\n",
              "                };\n",
              "                \n",
              "            </script>\n",
              "        </div>\n",
              "</body>\n",
              "</html>"
            ]
          },
          "metadata": {
            "tags": []
          }
        }
      ]
    },
    {
      "cell_type": "code",
      "metadata": {
        "colab": {
          "base_uri": "https://localhost:8080/"
        },
        "id": "nQKuRYVnrsXi",
        "outputId": "5fcafa68-27d2-4ba2-b448-3b7b737cccd3"
      },
      "source": [
        "#장르별 시각화\n",
        "\n",
        "data_by_genres['genres'].value_counts()"
      ],
      "execution_count": null,
      "outputs": [
        {
          "output_type": "execute_result",
          "data": {
            "text/plain": [
              "deep delta blues                1\n",
              "australian singer-songwriter    1\n",
              "modern old-time                 1\n",
              "second line                     1\n",
              "middle earth                    1\n",
              "                               ..\n",
              "latincore                       1\n",
              "choral                          1\n",
              "gujarati pop                    1\n",
              "peruvian hip hop                1\n",
              "preschool children's music      1\n",
              "Name: genres, Length: 2973, dtype: int64"
            ]
          },
          "metadata": {
            "tags": []
          },
          "execution_count": 18
        }
      ]
    },
    {
      "cell_type": "code",
      "metadata": {
        "colab": {
          "base_uri": "https://localhost:8080/",
          "height": 616
        },
        "id": "3d_I7TJPKO_5",
        "outputId": "72a61a8c-cac1-4566-ca33-66a996c4ae67"
      },
      "source": [
        "top10_genres = data_by_genres.nlargest(10, 'popularity')\n",
        "x = data.groupby(\"name\")[\"popularity\"].mean().sort_values(ascending=False).head(10)\n",
        "ax = sns.barplot(x.index, x)\n",
        "ax.set_title('Top Tracks with Popularity')\n",
        "ax.set_ylabel('Popularity')\n",
        "ax.set_xlabel('Tracks')\n",
        "plt.xticks(rotation = 90)"
      ],
      "execution_count": null,
      "outputs": [
        {
          "output_type": "execute_result",
          "data": {
            "text/plain": [
              "(array([0, 1, 2, 3, 4, 5, 6, 7, 8, 9]),\n",
              " <a list of 10 Text major ticklabel objects>)"
            ]
          },
          "metadata": {
            "tags": []
          },
          "execution_count": 19
        },
        {
          "output_type": "display_data",
          "data": {
            "image/png": "[encoded data removed]",
            "text/plain": [
              "<Figure size 792x432 with 1 Axes>"
            ]
          },
          "metadata": {
            "tags": []
          }
        }
      ]
    },
    {
      "cell_type": "code",
      "metadata": {
        "id": "wU0yuKEjPAV1",
        "colab": {
          "base_uri": "https://localhost:8080/",
          "height": 738
        },
        "outputId": "a42691e0-978d-4e9b-e0ea-b2336cca831d"
      },
      "source": [
        "x = data.groupby(\"artists\")[\"popularity\"].mean().sort_values(ascending=False).head(10)\n",
        "ax = sns.barplot(x.index, x)\n",
        "ax.set_title('Top artists with Popularity')\n",
        "ax.set_ylabel('Popularity')\n",
        "ax.set_xlabel('artists')\n",
        "plt.xticks(rotation = 90)"
      ],
      "execution_count": null,
      "outputs": [
        {
          "output_type": "execute_result",
          "data": {
            "text/plain": [
              "(array([0, 1, 2, 3, 4, 5, 6, 7, 8, 9]),\n",
              " <a list of 10 Text major ticklabel objects>)"
            ]
          },
          "metadata": {
            "tags": []
          },
          "execution_count": 20
        },
        {
          "output_type": "display_data",
          "data": {
            "image/png": "[encoded data removed]",
            "text/plain": [
              "<Figure size 792x432 with 1 Axes>"
            ]
          },
          "metadata": {
            "tags": []
          }
        }
      ]
    },
    {
      "cell_type": "code",
      "metadata": {
        "colab": {
          "base_uri": "https://localhost:8080/",
          "height": 547
        },
        "id": "XbYEt2FnHlKB",
        "outputId": "d9835689-05f4-4e2a-d0b8-e7bb7312b0c7"
      },
      "source": [
        "x = data_by_genres.groupby(\"genres\")[\"popularity\"].mean().sort_values(ascending=False).head(10)\n",
        "ax = sns.barplot(x.index, x)\n",
        "ax.set_title('Top genres with Popularity')\n",
        "ax.set_ylabel('Popularity')\n",
        "ax.set_xlabel('genres')\n",
        "plt.xticks(rotation = 90)"
      ],
      "execution_count": null,
      "outputs": [
        {
          "output_type": "execute_result",
          "data": {
            "text/plain": [
              "(array([0, 1, 2, 3, 4, 5, 6, 7, 8, 9]),\n",
              " <a list of 10 Text major ticklabel objects>)"
            ]
          },
          "metadata": {
            "tags": []
          },
          "execution_count": 21
        },
        {
          "output_type": "display_data",
          "data": {
            "image/png": "[encoded data removed]",
            "text/plain": [
              "<Figure size 792x432 with 1 Axes>"
            ]
          },
          "metadata": {
            "tags": []
          }
        }
      ]
    },
    {
      "cell_type": "code",
      "metadata": {
        "colab": {
          "base_uri": "https://localhost:8080/"
        },
        "id": "B_2aPAvnvvD3",
        "outputId": "1dfd37ea-c359-4a2e-b3f2-480a4cffc711"
      },
      "source": [
        "data['artists'].value_counts()"
      ],
      "execution_count": null,
      "outputs": [
        {
          "output_type": "execute_result",
          "data": {
            "text/plain": [
              "['Эрнест Хемингуэй']                                                                                                          1211\n",
              "['Эрих Мария Ремарк']                                                                                                         1068\n",
              "['Francisco Canaro']                                                                                                           942\n",
              "['Frank Sinatra']                                                                                                              630\n",
              "['Ignacio Corsini']                                                                                                            628\n",
              "                                                                                                                              ... \n",
              "['Kurt Weill', 'Hope Emerson', 'Remo Lota', 'Polyna Stoska', 'Helen Arden', 'Street Scene Orchestra', 'Maurice Abravanel']       1\n",
              "['Rafique Ghaznavi']                                                                                                             1\n",
              "['Wolfgang Amadeus Mozart', 'Rudolf Serkin', 'Philadelphia Orchestra', 'Eugene Ormandy']                                         1\n",
              "['Dario G']                                                                                                                      1\n",
              "['Ataraxia']                                                                                                                     1\n",
              "Name: artists, Length: 34088, dtype: int64"
            ]
          },
          "metadata": {
            "tags": []
          },
          "execution_count": 22
        }
      ]
    },
    {
      "cell_type": "code",
      "metadata": {
        "id": "qbq6QwddXJ5M"
      },
      "source": [
        "# # features = ['valence', 'year', 'acousticness', 'danceability', 'duration_ms', 'energy', 'explicit', 'instrumentalness',\n",
        "# #           'key', 'liveness', 'loudness', 'mode', 'speechiness', 'tempo']\n",
        "\n",
        "# use_features = features = ['valence', 'year', 'acousticness', 'danceability', 'duration_ms', 'energy', 'explicit', 'instrumentalness',\n",
        "#             'key', 'liveness', 'loudness', 'mode', 'speechiness', 'tempo']"
      ],
      "execution_count": null,
      "outputs": []
    },
    {
      "cell_type": "code",
      "metadata": {
        "id": "lEwT0L76tMB_"
      },
      "source": [
        "# modeling start!\n",
        "\n",
        "from sklearn import preprocessing\n",
        "from sklearn import model_selection\n",
        "from sklearn import linear_model\n",
        "from sklearn import svm\n",
        "from sklearn.model_selection import cross_validate\n",
        "from sklearn.metrics import mean_squared_error\n",
        "from sklearn import ensemble"
      ],
      "execution_count": null,
      "outputs": []
    },
    {
      "cell_type": "code",
      "metadata": {
        "id": "tBMm4AKpXeId"
      },
      "source": [
        "X, y = data[features], data['popularity']\n",
        "X_train, X_test, y_train, y_test = model_selection.train_test_split(X, y, test_size=0.33, random_state=42)"
      ],
      "execution_count": null,
      "outputs": []
    },
    {
      "cell_type": "code",
      "metadata": {
        "colab": {
          "base_uri": "https://localhost:8080/"
        },
        "id": "PYx_SeDlbrrL",
        "outputId": "97357041-7e1d-4904-e172-7299c99d2305"
      },
      "source": [
        "print(\"num of  train sample in train set:\",X_train.shape)\n",
        "print(\"Number of samples in validation set:\",y_test.shape)"
      ],
      "execution_count": null,
      "outputs": [
        {
          "output_type": "stream",
          "text": [
            "num of  train sample in train set: (114337, 14)\n",
            "Number of samples in validation set: (56316,)\n"
          ],
          "name": "stdout"
        }
      ]
    },
    {
      "cell_type": "code",
      "metadata": {
        "id": "vXsSnStOkqdf"
      },
      "source": [
        "# define models\n",
        "models = { \n",
        "    \"SVM\": svm.SVR(),\n",
        "    \"RandomForestReg\": ensemble.RandomForestRegressor(),\n",
        "    \"GradientBoostingReg\": ensemble.GradientBoostingRegressor()\n",
        "}"
      ],
      "execution_count": null,
      "outputs": []
    },
    {
      "cell_type": "code",
      "metadata": {
        "colab": {
          "base_uri": "https://localhost:8080/",
          "height": 432
        },
        "id": "F0MpUEK-sG86",
        "outputId": "dfe5f360-84be-48f8-e8b7-c892d7d1af78"
      },
      "source": [
        "from sklearn.ensemble import RandomForestRegressor\n",
        "random_forest = RandomForestRegressor()\n",
        "\n",
        "random_forest.fit(X_train, y_train)\n",
        "Y_pred_rf = random_forest.predict(X_test)\n",
        "random_forest.score(X_train,y_train)\n",
        "acc_random_forest = round(random_forest.score(X_train,y_train) * 100, 2)\n",
        "\n",
        "print(\"Important features\")\n",
        "pd.Series(random_forest.feature_importances_,X_train.columns).sort_values(ascending=True).plot.barh(width=0.8)\n",
        "print('__'*30)\n",
        "print(acc_random_forest)"
      ],
      "execution_count": null,
      "outputs": [
        {
          "output_type": "stream",
          "text": [
            "Important features\n",
            "____________________________________________________________\n",
            "97.13\n"
          ],
          "name": "stdout"
        },
        {
          "output_type": "display_data",
          "data": {
            "image/png": "[encoded data removed]",
            "text/plain": [
              "<Figure size 792x432 with 1 Axes>"
            ]
          },
          "metadata": {
            "tags": []
          }
        }
      ]
    }
  ]
}